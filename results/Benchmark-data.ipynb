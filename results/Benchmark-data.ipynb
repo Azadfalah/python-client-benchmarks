{
 "cells": [
  {
   "cell_type": "code",
   "execution_count": 12,
   "metadata": {
    "collapsed": false
   },
   "outputs": [],
   "source": [
    "import csv\n",
    "import pandas as pd\n",
    "import numpy as np\n",
    "import matplotlib.pyplot as plt"
   ]
  },
  {
   "cell_type": "code",
   "execution_count": 5,
   "metadata": {
    "collapsed": true
   },
   "outputs": [],
   "source": [
    "% matplotlib inline"
   ]
  },
  {
   "cell_type": "code",
   "execution_count": 18,
   "metadata": {
    "collapsed": false,
    "scrolled": true
   },
   "outputs": [],
   "source": [
    "results = {\n",
    "    4: 'local-by-ip-ping.csv',\n",
    "    1024:'local-by-ip-1k.csv',\n",
    "    4096:'local-by-ip-4k.csv',\n",
    "    8192:'local-by-ip-8k.csv',\n",
    "    32768:'local-by-ip-32k.csv',\n",
    "    131072:'local-by-ip-128k.csv'\n",
    "}\n",
    "\n",
    "def get_result(filename):\n",
    "    rows = list()\n",
    "    with open(\"/home/svanoort/Documents/python-client-benchmarks/results/\"+filename) as csvfile:\n",
    "        dataread = csv.reader(csvfile, dialect='excel')\n",
    "        for row in dataread:\n",
    "            rows.append(row)\n",
    "    return rows[2:]\n",
    "\n",
    "datasets = {key: get_result(value) for (key, value) in results.items()}\n",
    "\n",
    "\n",
    "\n"
   ]
  },
  {
   "cell_type": "code",
   "execution_count": null,
   "metadata": {
    "collapsed": true
   },
   "outputs": [],
   "source": [
    "reduced_data = {}  # Just pick a few benchmarks, and create an output with size, library/option, reuse, result"
   ]
  }
 ],
 "metadata": {
  "kernelspec": {
   "display_name": "Python 2",
   "language": "python",
   "name": "python2"
  },
  "language_info": {
   "codemirror_mode": {
    "name": "ipython",
    "version": 2
   },
   "file_extension": ".py",
   "mimetype": "text/x-python",
   "name": "python",
   "nbconvert_exporter": "python",
   "pygments_lexer": "ipython2",
   "version": "2.7.6"
  }
 },
 "nbformat": 4,
 "nbformat_minor": 0
}
